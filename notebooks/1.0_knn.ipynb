{
 "cells": [
  {
   "cell_type": "code",
   "execution_count": 1,
   "metadata": {
    "jupyter": {
     "source_hidden": true
    }
   },
   "outputs": [
    {
     "data": {
      "application/javascript": [
       "\n",
       "            setTimeout(function() {\n",
       "                var nbb_cell_id = 1;\n",
       "                var nbb_unformatted_code = \"%load_ext nb_black\\n%load_ext lab_black\";\n",
       "                var nbb_formatted_code = \"%load_ext nb_black\\n%load_ext lab_black\";\n",
       "                var nbb_cells = Jupyter.notebook.get_cells();\n",
       "                for (var i = 0; i < nbb_cells.length; ++i) {\n",
       "                    if (nbb_cells[i].input_prompt_number == nbb_cell_id) {\n",
       "                        if (nbb_cells[i].get_text() == nbb_unformatted_code) {\n",
       "                             nbb_cells[i].set_text(nbb_formatted_code);\n",
       "                        }\n",
       "                        break;\n",
       "                    }\n",
       "                }\n",
       "            }, 500);\n",
       "            "
      ],
      "text/plain": [
       "<IPython.core.display.Javascript object>"
      ]
     },
     "metadata": {},
     "output_type": "display_data"
    }
   ],
   "source": [
    "%load_ext nb_black\n",
    "%load_ext lab_black"
   ]
  },
  {
   "attachments": {
    "fd9b5077-319f-4a5d-af4c-729270ccf593.png": {
     "image/png": "[encoded data removed]"
    }
   },
   "cell_type": "markdown",
   "metadata": {},
   "source": [
    "# K-Nearest Neighbors\n",
    "![image.png](attachment:fd9b5077-319f-4a5d-af4c-729270ccf593.png)"
   ]
  },
  {
   "cell_type": "markdown",
   "metadata": {},
   "source": [
    "## Import Library"
   ]
  },
  {
   "cell_type": "code",
   "execution_count": 2,
   "metadata": {},
   "outputs": [
    {
     "data": {
      "application/javascript": [
       "\n",
       "            setTimeout(function() {\n",
       "                var nbb_cell_id = 2;\n",
       "                var nbb_unformatted_code = \"import pandas as pd\\nimport numpy as np\\n\\nimport matplotlib.pyplot as plt\\nimport seaborn as sns\\n\\nimport os\\nimport re\\nimport gradio as gr\\nfrom sklearn.neighbors import KNeighborsClassifier, KNeighborsRegressor\";\n",
       "                var nbb_formatted_code = \"import pandas as pd\\nimport numpy as np\\n\\nimport matplotlib.pyplot as plt\\nimport seaborn as sns\\n\\nimport os\\nimport re\\nimport gradio as gr\\nfrom sklearn.neighbors import KNeighborsClassifier, KNeighborsRegressor\";\n",
       "                var nbb_cells = Jupyter.notebook.get_cells();\n",
       "                for (var i = 0; i < nbb_cells.length; ++i) {\n",
       "                    if (nbb_cells[i].input_prompt_number == nbb_cell_id) {\n",
       "                        if (nbb_cells[i].get_text() == nbb_unformatted_code) {\n",
       "                             nbb_cells[i].set_text(nbb_formatted_code);\n",
       "                        }\n",
       "                        break;\n",
       "                    }\n",
       "                }\n",
       "            }, 500);\n",
       "            "
      ],
      "text/plain": [
       "<IPython.core.display.Javascript object>"
      ]
     },
     "metadata": {},
     "output_type": "display_data"
    }
   ],
   "source": [
    "import pandas as pd\n",
    "import numpy as np\n",
    "\n",
    "import matplotlib.pyplot as plt\n",
    "import seaborn as sns\n",
    "\n",
    "import os\n",
    "import re\n",
    "import gradio as gr\n",
    "from sklearn.neighbors import KNeighborsClassifier, KNeighborsRegressor"
   ]
  },
  {
   "cell_type": "markdown",
   "metadata": {},
   "source": [
    "# Classification"
   ]
  },
  {
   "cell_type": "markdown",
   "metadata": {},
   "source": [
    "## Load data"
   ]
  },
  {
   "cell_type": "code",
   "execution_count": 3,
   "metadata": {},
   "outputs": [
    {
     "data": {
      "application/javascript": [
       "\n",
       "            setTimeout(function() {\n",
       "                var nbb_cell_id = 3;\n",
       "                var nbb_unformatted_code = \"DATA_PATH = \\\"../data/\\\"\";\n",
       "                var nbb_formatted_code = \"DATA_PATH = \\\"../data/\\\"\";\n",
       "                var nbb_cells = Jupyter.notebook.get_cells();\n",
       "                for (var i = 0; i < nbb_cells.length; ++i) {\n",
       "                    if (nbb_cells[i].input_prompt_number == nbb_cell_id) {\n",
       "                        if (nbb_cells[i].get_text() == nbb_unformatted_code) {\n",
       "                             nbb_cells[i].set_text(nbb_formatted_code);\n",
       "                        }\n",
       "                        break;\n",
       "                    }\n",
       "                }\n",
       "            }, 500);\n",
       "            "
      ],
      "text/plain": [
       "<IPython.core.display.Javascript object>"
      ]
     },
     "metadata": {},
     "output_type": "display_data"
    }
   ],
   "source": [
    "DATA_PATH = \"../data/\""
   ]
  },
  {
   "cell_type": "code",
   "execution_count": 4,
   "metadata": {},
   "outputs": [
    {
     "data": {
      "application/javascript": [
       "\n",
       "            setTimeout(function() {\n",
       "                var nbb_cell_id = 4;\n",
       "                var nbb_unformatted_code = \"contraception_df = pd.read_csv(os.path.join(DATA_PATH, \\\"contraception_prevalence.csv\\\"))\";\n",
       "                var nbb_formatted_code = \"contraception_df = pd.read_csv(os.path.join(DATA_PATH, \\\"contraception_prevalence.csv\\\"))\";\n",
       "                var nbb_cells = Jupyter.notebook.get_cells();\n",
       "                for (var i = 0; i < nbb_cells.length; ++i) {\n",
       "                    if (nbb_cells[i].input_prompt_number == nbb_cell_id) {\n",
       "                        if (nbb_cells[i].get_text() == nbb_unformatted_code) {\n",
       "                             nbb_cells[i].set_text(nbb_formatted_code);\n",
       "                        }\n",
       "                        break;\n",
       "                    }\n",
       "                }\n",
       "            }, 500);\n",
       "            "
      ],
      "text/plain": [
       "<IPython.core.display.Javascript object>"
      ]
     },
     "metadata": {},
     "output_type": "display_data"
    }
   ],
   "source": [
    "contraception_df = pd.read_csv(os.path.join(DATA_PATH, \"contraception_prevalence.csv\"))"
   ]
  },
  {
   "cell_type": "code",
   "execution_count": 5,
   "metadata": {},
   "outputs": [
    {
     "data": {
      "text/html": [
       "<div>\n",
       "<style scoped>\n",
       "    .dataframe tbody tr th:only-of-type {\n",
       "        vertical-align: middle;\n",
       "    }\n",
       "\n",
       "    .dataframe tbody tr th {\n",
       "        vertical-align: top;\n",
       "    }\n",
       "\n",
       "    .dataframe thead th {\n",
       "        text-align: right;\n",
       "    }\n",
       "</style>\n",
       "<table border=\"1\" class=\"dataframe\">\n",
       "  <thead>\n",
       "    <tr style=\"text-align: right;\">\n",
       "      <th></th>\n",
       "      <th>age</th>\n",
       "      <th>education</th>\n",
       "      <th>partner_education</th>\n",
       "      <th>number_of_children</th>\n",
       "      <th>is_islam</th>\n",
       "      <th>currently_working</th>\n",
       "      <th>standard_of_living</th>\n",
       "      <th>media_exposure</th>\n",
       "      <th>contraceptive_method_used</th>\n",
       "    </tr>\n",
       "  </thead>\n",
       "  <tbody>\n",
       "    <tr>\n",
       "      <th>0</th>\n",
       "      <td>24</td>\n",
       "      <td>2</td>\n",
       "      <td>3</td>\n",
       "      <td>3</td>\n",
       "      <td>1</td>\n",
       "      <td>1</td>\n",
       "      <td>3</td>\n",
       "      <td>0</td>\n",
       "      <td>1</td>\n",
       "    </tr>\n",
       "    <tr>\n",
       "      <th>1</th>\n",
       "      <td>45</td>\n",
       "      <td>1</td>\n",
       "      <td>3</td>\n",
       "      <td>10</td>\n",
       "      <td>1</td>\n",
       "      <td>1</td>\n",
       "      <td>4</td>\n",
       "      <td>0</td>\n",
       "      <td>1</td>\n",
       "    </tr>\n",
       "    <tr>\n",
       "      <th>2</th>\n",
       "      <td>43</td>\n",
       "      <td>2</td>\n",
       "      <td>3</td>\n",
       "      <td>7</td>\n",
       "      <td>1</td>\n",
       "      <td>1</td>\n",
       "      <td>4</td>\n",
       "      <td>0</td>\n",
       "      <td>1</td>\n",
       "    </tr>\n",
       "    <tr>\n",
       "      <th>3</th>\n",
       "      <td>42</td>\n",
       "      <td>3</td>\n",
       "      <td>2</td>\n",
       "      <td>9</td>\n",
       "      <td>1</td>\n",
       "      <td>1</td>\n",
       "      <td>3</td>\n",
       "      <td>0</td>\n",
       "      <td>1</td>\n",
       "    </tr>\n",
       "    <tr>\n",
       "      <th>4</th>\n",
       "      <td>36</td>\n",
       "      <td>3</td>\n",
       "      <td>3</td>\n",
       "      <td>8</td>\n",
       "      <td>1</td>\n",
       "      <td>1</td>\n",
       "      <td>2</td>\n",
       "      <td>0</td>\n",
       "      <td>1</td>\n",
       "    </tr>\n",
       "  </tbody>\n",
       "</table>\n",
       "</div>"
      ],
      "text/plain": [
       "   age  education  partner_education  number_of_children  is_islam  \\\n",
       "0   24          2                  3                   3         1   \n",
       "1   45          1                  3                  10         1   \n",
       "2   43          2                  3                   7         1   \n",
       "3   42          3                  2                   9         1   \n",
       "4   36          3                  3                   8         1   \n",
       "\n",
       "   currently_working  standard_of_living  media_exposure  \\\n",
       "0                  1                   3               0   \n",
       "1                  1                   4               0   \n",
       "2                  1                   4               0   \n",
       "3                  1                   3               0   \n",
       "4                  1                   2               0   \n",
       "\n",
       "   contraceptive_method_used  \n",
       "0                          1  \n",
       "1                          1  \n",
       "2                          1  \n",
       "3                          1  \n",
       "4                          1  "
      ]
     },
     "execution_count": 5,
     "metadata": {},
     "output_type": "execute_result"
    },
    {
     "data": {
      "application/javascript": [
       "\n",
       "            setTimeout(function() {\n",
       "                var nbb_cell_id = 5;\n",
       "                var nbb_unformatted_code = \"contraception_df.head()\";\n",
       "                var nbb_formatted_code = \"contraception_df.head()\";\n",
       "                var nbb_cells = Jupyter.notebook.get_cells();\n",
       "                for (var i = 0; i < nbb_cells.length; ++i) {\n",
       "                    if (nbb_cells[i].input_prompt_number == nbb_cell_id) {\n",
       "                        if (nbb_cells[i].get_text() == nbb_unformatted_code) {\n",
       "                             nbb_cells[i].set_text(nbb_formatted_code);\n",
       "                        }\n",
       "                        break;\n",
       "                    }\n",
       "                }\n",
       "            }, 500);\n",
       "            "
      ],
      "text/plain": [
       "<IPython.core.display.Javascript object>"
      ]
     },
     "metadata": {},
     "output_type": "display_data"
    }
   ],
   "source": [
    "contraception_df.head()"
   ]
  },
  {
   "cell_type": "code",
   "execution_count": 6,
   "metadata": {},
   "outputs": [
    {
     "data": {
      "text/plain": [
       "(1473, 9)"
      ]
     },
     "execution_count": 6,
     "metadata": {},
     "output_type": "execute_result"
    },
    {
     "data": {
      "application/javascript": [
       "\n",
       "            setTimeout(function() {\n",
       "                var nbb_cell_id = 6;\n",
       "                var nbb_unformatted_code = \"contraception_df.shape\";\n",
       "                var nbb_formatted_code = \"contraception_df.shape\";\n",
       "                var nbb_cells = Jupyter.notebook.get_cells();\n",
       "                for (var i = 0; i < nbb_cells.length; ++i) {\n",
       "                    if (nbb_cells[i].input_prompt_number == nbb_cell_id) {\n",
       "                        if (nbb_cells[i].get_text() == nbb_unformatted_code) {\n",
       "                             nbb_cells[i].set_text(nbb_formatted_code);\n",
       "                        }\n",
       "                        break;\n",
       "                    }\n",
       "                }\n",
       "            }, 500);\n",
       "            "
      ],
      "text/plain": [
       "<IPython.core.display.Javascript object>"
      ]
     },
     "metadata": {},
     "output_type": "display_data"
    }
   ],
   "source": [
    "contraception_df.shape"
   ]
  },
  {
   "cell_type": "code",
   "execution_count": 7,
   "metadata": {},
   "outputs": [
    {
     "name": "stdout",
     "output_type": "stream",
     "text": [
      "<class 'pandas.core.frame.DataFrame'>\n",
      "RangeIndex: 1473 entries, 0 to 1472\n",
      "Data columns (total 9 columns):\n",
      " #   Column                     Non-Null Count  Dtype\n",
      "---  ------                     --------------  -----\n",
      " 0   age                        1473 non-null   int64\n",
      " 1   education                  1473 non-null   int64\n",
      " 2   partner_education          1473 non-null   int64\n",
      " 3   number_of_children         1473 non-null   int64\n",
      " 4   is_islam                   1473 non-null   int64\n",
      " 5   currently_working          1473 non-null   int64\n",
      " 6   standard_of_living         1473 non-null   int64\n",
      " 7   media_exposure             1473 non-null   int64\n",
      " 8   contraceptive_method_used  1473 non-null   int64\n",
      "dtypes: int64(9)\n",
      "memory usage: 103.7 KB\n"
     ]
    },
    {
     "data": {
      "application/javascript": [
       "\n",
       "            setTimeout(function() {\n",
       "                var nbb_cell_id = 7;\n",
       "                var nbb_unformatted_code = \"contraception_df.info()\";\n",
       "                var nbb_formatted_code = \"contraception_df.info()\";\n",
       "                var nbb_cells = Jupyter.notebook.get_cells();\n",
       "                for (var i = 0; i < nbb_cells.length; ++i) {\n",
       "                    if (nbb_cells[i].input_prompt_number == nbb_cell_id) {\n",
       "                        if (nbb_cells[i].get_text() == nbb_unformatted_code) {\n",
       "                             nbb_cells[i].set_text(nbb_formatted_code);\n",
       "                        }\n",
       "                        break;\n",
       "                    }\n",
       "                }\n",
       "            }, 500);\n",
       "            "
      ],
      "text/plain": [
       "<IPython.core.display.Javascript object>"
      ]
     },
     "metadata": {},
     "output_type": "display_data"
    }
   ],
   "source": [
    "contraception_df.info()"
   ]
  },
  {
   "cell_type": "code",
   "execution_count": 8,
   "metadata": {},
   "outputs": [
    {
     "data": {
      "text/plain": [
       "1    629\n",
       "3    511\n",
       "2    333\n",
       "Name: contraceptive_method_used, dtype: int64"
      ]
     },
     "execution_count": 8,
     "metadata": {},
     "output_type": "execute_result"
    },
    {
     "data": {
      "application/javascript": [
       "\n",
       "            setTimeout(function() {\n",
       "                var nbb_cell_id = 8;\n",
       "                var nbb_unformatted_code = \"contraception_df[\\\"contraceptive_method_used\\\"].value_counts()\";\n",
       "                var nbb_formatted_code = \"contraception_df[\\\"contraceptive_method_used\\\"].value_counts()\";\n",
       "                var nbb_cells = Jupyter.notebook.get_cells();\n",
       "                for (var i = 0; i < nbb_cells.length; ++i) {\n",
       "                    if (nbb_cells[i].input_prompt_number == nbb_cell_id) {\n",
       "                        if (nbb_cells[i].get_text() == nbb_unformatted_code) {\n",
       "                             nbb_cells[i].set_text(nbb_formatted_code);\n",
       "                        }\n",
       "                        break;\n",
       "                    }\n",
       "                }\n",
       "            }, 500);\n",
       "            "
      ],
      "text/plain": [
       "<IPython.core.display.Javascript object>"
      ]
     },
     "metadata": {},
     "output_type": "display_data"
    }
   ],
   "source": [
    "contraception_df[\"contraceptive_method_used\"].value_counts()"
   ]
  },
  {
   "cell_type": "markdown",
   "metadata": {},
   "source": [
    "Label Details\n",
    "* 1 = No-use\n",
    "* 2 = Long-term\n",
    "* 3 = Short-term"
   ]
  },
  {
   "cell_type": "markdown",
   "metadata": {},
   "source": [
    "## Making Prediction"
   ]
  },
  {
   "cell_type": "code",
   "execution_count": 9,
   "metadata": {},
   "outputs": [
    {
     "data": {
      "application/javascript": [
       "\n",
       "            setTimeout(function() {\n",
       "                var nbb_cell_id = 9;\n",
       "                var nbb_unformatted_code = \"X = contraception_df.drop([\\\"contraceptive_method_used\\\"], axis=1)\\ny = contraception_df[\\\"contraceptive_method_used\\\"]\";\n",
       "                var nbb_formatted_code = \"X = contraception_df.drop([\\\"contraceptive_method_used\\\"], axis=1)\\ny = contraception_df[\\\"contraceptive_method_used\\\"]\";\n",
       "                var nbb_cells = Jupyter.notebook.get_cells();\n",
       "                for (var i = 0; i < nbb_cells.length; ++i) {\n",
       "                    if (nbb_cells[i].input_prompt_number == nbb_cell_id) {\n",
       "                        if (nbb_cells[i].get_text() == nbb_unformatted_code) {\n",
       "                             nbb_cells[i].set_text(nbb_formatted_code);\n",
       "                        }\n",
       "                        break;\n",
       "                    }\n",
       "                }\n",
       "            }, 500);\n",
       "            "
      ],
      "text/plain": [
       "<IPython.core.display.Javascript object>"
      ]
     },
     "metadata": {},
     "output_type": "display_data"
    }
   ],
   "source": [
    "X = contraception_df.drop([\"contraceptive_method_used\"], axis=1)\n",
    "y = contraception_df[\"contraceptive_method_used\"]"
   ]
  },
  {
   "cell_type": "code",
   "execution_count": 10,
   "metadata": {},
   "outputs": [
    {
     "data": {
      "text/plain": [
       "KNeighborsClassifier(n_neighbors=3)"
      ]
     },
     "execution_count": 10,
     "metadata": {},
     "output_type": "execute_result"
    },
    {
     "data": {
      "application/javascript": [
       "\n",
       "            setTimeout(function() {\n",
       "                var nbb_cell_id = 10;\n",
       "                var nbb_unformatted_code = \"clf = KNeighborsClassifier(n_neighbors=3)\\nclf.fit(X, y)\";\n",
       "                var nbb_formatted_code = \"clf = KNeighborsClassifier(n_neighbors=3)\\nclf.fit(X, y)\";\n",
       "                var nbb_cells = Jupyter.notebook.get_cells();\n",
       "                for (var i = 0; i < nbb_cells.length; ++i) {\n",
       "                    if (nbb_cells[i].input_prompt_number == nbb_cell_id) {\n",
       "                        if (nbb_cells[i].get_text() == nbb_unformatted_code) {\n",
       "                             nbb_cells[i].set_text(nbb_formatted_code);\n",
       "                        }\n",
       "                        break;\n",
       "                    }\n",
       "                }\n",
       "            }, 500);\n",
       "            "
      ],
      "text/plain": [
       "<IPython.core.display.Javascript object>"
      ]
     },
     "metadata": {},
     "output_type": "display_data"
    }
   ],
   "source": [
    "clf = KNeighborsClassifier(n_neighbors=3)\n",
    "clf.fit(X, y)"
   ]
  },
  {
   "cell_type": "code",
   "execution_count": 11,
   "metadata": {},
   "outputs": [
    {
     "data": {
      "application/javascript": [
       "\n",
       "            setTimeout(function() {\n",
       "                var nbb_cell_id = 11;\n",
       "                var nbb_unformatted_code = \"prevalence_map = {1: \\\"no_use\\\", 2: \\\"long_term\\\", 3: \\\"short_term\\\"}\\n\\n\\ndef predict_prevalence(\\n    age,\\n    education,\\n    partner_education,\\n    n_children,\\n    religion,\\n    is_working,\\n    standard_of_living,\\n    media_exposure,\\n):\\n    religion_ = 1 if religion == \\\"Islam\\\" else 0\\n    is_working_ = 0 if is_working else 1\\n    media_exposure_ = 1 if media_exposure else 0\\n    features = np.array(\\n        [\\n            [\\n                age,\\n                education,\\n                partner_education,\\n                n_children,\\n                religion_,\\n                is_working_,\\n                standard_of_living,\\n                media_exposure_,\\n            ]\\n        ]\\n    )\\n    prevalence = clf.predict(features)\\n    prevalence_text = prevalence_map[prevalence[0]]\\n    return \\\"Contraception Prevalence: {}\\\".format(prevalence_text)\";\n",
       "                var nbb_formatted_code = \"prevalence_map = {1: \\\"no_use\\\", 2: \\\"long_term\\\", 3: \\\"short_term\\\"}\\n\\n\\ndef predict_prevalence(\\n    age,\\n    education,\\n    partner_education,\\n    n_children,\\n    religion,\\n    is_working,\\n    standard_of_living,\\n    media_exposure,\\n):\\n    religion_ = 1 if religion == \\\"Islam\\\" else 0\\n    is_working_ = 0 if is_working else 1\\n    media_exposure_ = 1 if media_exposure else 0\\n    features = np.array(\\n        [\\n            [\\n                age,\\n                education,\\n                partner_education,\\n                n_children,\\n                religion_,\\n                is_working_,\\n                standard_of_living,\\n                media_exposure_,\\n            ]\\n        ]\\n    )\\n    prevalence = clf.predict(features)\\n    prevalence_text = prevalence_map[prevalence[0]]\\n    return \\\"Contraception Prevalence: {}\\\".format(prevalence_text)\";\n",
       "                var nbb_cells = Jupyter.notebook.get_cells();\n",
       "                for (var i = 0; i < nbb_cells.length; ++i) {\n",
       "                    if (nbb_cells[i].input_prompt_number == nbb_cell_id) {\n",
       "                        if (nbb_cells[i].get_text() == nbb_unformatted_code) {\n",
       "                             nbb_cells[i].set_text(nbb_formatted_code);\n",
       "                        }\n",
       "                        break;\n",
       "                    }\n",
       "                }\n",
       "            }, 500);\n",
       "            "
      ],
      "text/plain": [
       "<IPython.core.display.Javascript object>"
      ]
     },
     "metadata": {},
     "output_type": "display_data"
    }
   ],
   "source": [
    "prevalence_map = {1: \"no_use\", 2: \"long_term\", 3: \"short_term\"}\n",
    "\n",
    "\n",
    "def predict_prevalence(\n",
    "    age,\n",
    "    education,\n",
    "    partner_education,\n",
    "    n_children,\n",
    "    religion,\n",
    "    is_working,\n",
    "    standard_of_living,\n",
    "    media_exposure,\n",
    "):\n",
    "    religion_ = 1 if religion == \"Islam\" else 0\n",
    "    is_working_ = 0 if is_working else 1\n",
    "    media_exposure_ = 1 if media_exposure else 0\n",
    "    features = np.array(\n",
    "        [\n",
    "            [\n",
    "                age,\n",
    "                education,\n",
    "                partner_education,\n",
    "                n_children,\n",
    "                religion_,\n",
    "                is_working_,\n",
    "                standard_of_living,\n",
    "                media_exposure_,\n",
    "            ]\n",
    "        ]\n",
    "    )\n",
    "    prevalence = clf.predict(features)\n",
    "    prevalence_text = prevalence_map[prevalence[0]]\n",
    "    return \"Contraception Prevalence: {}\".format(prevalence_text)"
   ]
  },
  {
   "cell_type": "code",
   "execution_count": 12,
   "metadata": {},
   "outputs": [
    {
     "name": "stdout",
     "output_type": "stream",
     "text": [
      "Running locally at: http://127.0.0.1:7860/\n",
      "To create a public link, set `share=True` in `launch()`.\n",
      "Interface loading below...\n"
     ]
    },
    {
     "data": {
      "text/html": [
       "\n",
       "        <iframe\n",
       "            width=\"900\"\n",
       "            height=\"500\"\n",
       "            src=\"http://127.0.0.1:7860/\"\n",
       "            frameborder=\"0\"\n",
       "            allowfullscreen\n",
       "        ></iframe>\n",
       "        "
      ],
      "text/plain": [
       "<IPython.lib.display.IFrame at 0x7fcd3b8b6700>"
      ]
     },
     "metadata": {},
     "output_type": "display_data"
    },
    {
     "data": {
      "text/plain": [
       "(<Flask 'gradio.networking'>, 'http://127.0.0.1:7860/', None)"
      ]
     },
     "execution_count": 12,
     "metadata": {},
     "output_type": "execute_result"
    },
    {
     "data": {
      "application/javascript": [
       "\n",
       "            setTimeout(function() {\n",
       "                var nbb_cell_id = 12;\n",
       "                var nbb_unformatted_code = \"iface = gr.Interface(\\n    fn=predict_prevalence,\\n    inputs=[\\n        \\\"number\\\",\\n        gr.inputs.Slider(minimum=1, maximum=4, step=1, default=1),\\n        gr.inputs.Slider(minimum=1, maximum=4, step=1, default=1),\\n        \\\"number\\\",\\n        gr.inputs.Radio([\\\"Islam\\\", \\\"Non-Islam\\\"]),\\n        gr.inputs.Checkbox(default=False),\\n        gr.inputs.Slider(minimum=1, maximum=4, step=1, default=1),\\n        gr.inputs.Checkbox(default=False),\\n    ],\\n    outputs=\\\"text\\\",\\n)\\niface.launch()\";\n",
       "                var nbb_formatted_code = \"iface = gr.Interface(\\n    fn=predict_prevalence,\\n    inputs=[\\n        \\\"number\\\",\\n        gr.inputs.Slider(minimum=1, maximum=4, step=1, default=1),\\n        gr.inputs.Slider(minimum=1, maximum=4, step=1, default=1),\\n        \\\"number\\\",\\n        gr.inputs.Radio([\\\"Islam\\\", \\\"Non-Islam\\\"]),\\n        gr.inputs.Checkbox(default=False),\\n        gr.inputs.Slider(minimum=1, maximum=4, step=1, default=1),\\n        gr.inputs.Checkbox(default=False),\\n    ],\\n    outputs=\\\"text\\\",\\n)\\niface.launch()\";\n",
       "                var nbb_cells = Jupyter.notebook.get_cells();\n",
       "                for (var i = 0; i < nbb_cells.length; ++i) {\n",
       "                    if (nbb_cells[i].input_prompt_number == nbb_cell_id) {\n",
       "                        if (nbb_cells[i].get_text() == nbb_unformatted_code) {\n",
       "                             nbb_cells[i].set_text(nbb_formatted_code);\n",
       "                        }\n",
       "                        break;\n",
       "                    }\n",
       "                }\n",
       "            }, 500);\n",
       "            "
      ],
      "text/plain": [
       "<IPython.core.display.Javascript object>"
      ]
     },
     "metadata": {},
     "output_type": "display_data"
    }
   ],
   "source": [
    "iface = gr.Interface(\n",
    "    fn=predict_prevalence,\n",
    "    inputs=[\n",
    "        \"number\",\n",
    "        gr.inputs.Slider(minimum=1, maximum=4, step=1, default=1),\n",
    "        gr.inputs.Slider(minimum=1, maximum=4, step=1, default=1),\n",
    "        \"number\",\n",
    "        gr.inputs.Radio([\"Islam\", \"Non-Islam\"]),\n",
    "        gr.inputs.Checkbox(default=False),\n",
    "        gr.inputs.Slider(minimum=1, maximum=4, step=1, default=1),\n",
    "        gr.inputs.Checkbox(default=False),\n",
    "    ],\n",
    "    outputs=\"text\",\n",
    ")\n",
    "iface.launch()"
   ]
  }
 ],
 "metadata": {
  "kernelspec": {
   "display_name": "Python 3",
   "language": "python",
   "name": "python3"
  },
  "language_info": {
   "codemirror_mode": {
    "name": "ipython",
    "version": 3
   },
   "file_extension": ".py",
   "mimetype": "text/x-python",
   "name": "python",
   "nbconvert_exporter": "python",
   "pygments_lexer": "ipython3",
   "version": "3.8.5"
  }
 },
 "nbformat": 4,
 "nbformat_minor": 4
}
